{
 "cells": [
  {
   "cell_type": "code",
   "execution_count": 13,
   "metadata": {},
   "outputs": [],
   "source": [
    "/* Session 43 Scala 1 by Sreedhara Jagatagar Sreenivasa */\n",
    "\n",
    "/*\n",
    "Task 1 \n",
    "    Follow the below link document steps to download and import AcadgildSpark VM in the Oracle Virtual Box. \n",
    "    ACADGILD_VM \n",
    "    NOTE: If your system is compatible with 64 bit VM, then please download the Acadgild Spark 64 Bit file, \n",
    "    else download the Acadgild Spark 32 Bit file from the below link\n",
    "*/\n",
    "\n",
    "/*\n",
    "Task 2\n",
    "  Given a list of strings - List[String] (“alpha”, “gamma”, “omega”, “zeta”, “beta”) \n",
    "- find count of all strings with length 4 \n",
    "- convert the list of string to a list of integers, where each string is mapped to its corresponding length \n",
    "- find count of all strings which contain alphabet ‘m’ \n",
    "- find the count of all strings which start with the alphabet ‘a’ \n",
    "*/\n",
    "\n",
    "/*\n",
    "Tasl 3\n",
    "    Create a Scala application to find the GCD of two numbers. \n",
    "*/"
   ]
  },
  {
   "cell_type": "code",
   "execution_count": null,
   "metadata": {},
   "outputs": [],
   "source": [
    "/*\n",
    "Task 1 \n",
    "    Follow the below link document steps to download and import AcadgildSpark VM in the Oracle Virtual Box. \n",
    "    ACADGILD_VM \n",
    "    NOTE: If your system is compatible with 64 bit VM, then please download the Acadgild Spark 64 Bit file, \n",
    "    else download the Acadgild Spark 32 Bit file from the below link\n",
    "*/\n"
   ]
  },
  {
   "cell_type": "markdown",
   "metadata": {},
   "source": [
    "Answer for Task1 : Screen Shot is uploaded at GITHUB"
   ]
  },
  {
   "cell_type": "code",
   "execution_count": 16,
   "metadata": {},
   "outputs": [],
   "source": [
    "/*\n",
    "Task 2\n",
    "  Given a list of strings - List[String] (“alpha”, “gamma”, “omega”, “zeta”, “beta”) \n",
    "- find count of all strings with length 4 \n",
    "- convert the list of string to a list of integers, where each string is mapped to its corresponding length \n",
    "- find count of all strings which contain alphabet ‘m’ \n",
    "- find the count of all strings which start with the alphabet ‘a’ \n",
    "*/"
   ]
  },
  {
   "cell_type": "code",
   "execution_count": 17,
   "metadata": {},
   "outputs": [
    {
     "data": {
      "text/plain": [
       "list: List[String] = List(alpha, gamma, omega, zeta, beta)\r\n",
       "res16: Int = 2\n"
      ]
     },
     "execution_count": 17,
     "metadata": {},
     "output_type": "execute_result"
    }
   ],
   "source": [
    "//- find count of all strings with length 4 \n",
    "val list = List(\"alpha\", \"gamma\", \"omega\", \"zeta\", \"beta\")\n",
    "list.count(x => x.length == 4)"
   ]
  },
  {
   "cell_type": "code",
   "execution_count": 12,
   "metadata": {},
   "outputs": [
    {
     "data": {
      "text/plain": [
       "res11: List[Int] = List(5, 5, 5, 4, 4)\n"
      ]
     },
     "execution_count": 12,
     "metadata": {},
     "output_type": "execute_result"
    }
   ],
   "source": [
    "//- convert the list of string to a list of integers, where each string is mapped to its corresponding length \n",
    "list.map(s => (s.length))"
   ]
  },
  {
   "cell_type": "code",
   "execution_count": 14,
   "metadata": {},
   "outputs": [
    {
     "data": {
      "text/plain": [
       "res13: Int = 2\n"
      ]
     },
     "execution_count": 14,
     "metadata": {},
     "output_type": "execute_result"
    }
   ],
   "source": [
    "//- find count of all strings which contain alphabet ‘m’ \n",
    "// - find count of all strings which contain alphabet ‘m’ \n",
    "list.map(s => s.count(_ == 'm')).count(s => s != 0)\n"
   ]
  },
  {
   "cell_type": "code",
   "execution_count": 15,
   "metadata": {},
   "outputs": [
    {
     "data": {
      "text/plain": [
       "res14: Int = 1\n"
      ]
     },
     "execution_count": 15,
     "metadata": {},
     "output_type": "execute_result"
    }
   ],
   "source": [
    "//- find the count of all strings which start with the alphabet ‘a’ \n",
    "\n",
    "list.map(s => s(0) == 'a').count(s => s == true)\n"
   ]
  },
  {
   "cell_type": "code",
   "execution_count": 18,
   "metadata": {},
   "outputs": [],
   "source": [
    "/*\n",
    "Tasl 3\n",
    "    Create a Scala application to find the GCD of two numbers. \n",
    "*/"
   ]
  },
  {
   "cell_type": "code",
   "execution_count": 34,
   "metadata": {},
   "outputs": [
    {
     "name": "stdout",
     "output_type": "stream",
     "text": [
      "GCD of 9 and 30 is  : 3\n",
      "GCD of 10 and 25 is : 5\n",
      "GCD of 127 and 23 is : 1\n"
     ]
    },
    {
     "data": {
      "text/plain": [
       "gcd: (a: Int, b: Int)Int\n"
      ]
     },
     "execution_count": 34,
     "metadata": {},
     "output_type": "execute_result"
    }
   ],
   "source": [
    "def gcd(a: Int, b:Int): Int={\n",
    "    if(b ==0) a else gcd(b, a%b)\n",
    "}\n",
    "println(\"GCD of 9 and 30 is  : \" +gcd(9,30))\n",
    "println(\"GCD of 10 and 25 is : \" +gcd(10,25))\n",
    "println(\"GCD of 127 and 23 is : \" +gcd(127,23))"
   ]
  },
  {
   "cell_type": "code",
   "execution_count": null,
   "metadata": {},
   "outputs": [],
   "source": []
  }
 ],
 "metadata": {
  "kernelspec": {
   "display_name": "spylon-kernel",
   "language": "scala",
   "name": "spylon-kernel"
  },
  "language_info": {
   "codemirror_mode": "text/x-scala",
   "file_extension": ".scala",
   "help_links": [
    {
     "text": "MetaKernel Magics",
     "url": "https://github.com/calysto/metakernel/blob/master/metakernel/magics/README.md"
    }
   ],
   "mimetype": "text/x-scala",
   "name": "scala",
   "pygments_lexer": "scala",
   "version": "0.4.1"
  }
 },
 "nbformat": 4,
 "nbformat_minor": 2
}
